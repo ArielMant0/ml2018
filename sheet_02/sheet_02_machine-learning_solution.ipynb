{
 "cells": [
  {
   "cell_type": "markdown",
   "metadata": {
    "nbgrader": {
     "grade": false,
     "grade_id": "cell-a26d5efc968151ce",
     "locked": true,
     "schema_version": 1,
     "solution": false
    }
   },
   "source": [
    "Osnabrück University - Machine Learning (Summer Term 2017) - Prof. Dr.-Ing. G. Heidemann, Ulf Krumnack"
   ]
  },
  {
   "cell_type": "markdown",
   "metadata": {
    "nbgrader": {
     "grade": false,
     "grade_id": "cell-932f957b5e17c264",
     "locked": true,
     "schema_version": 1,
     "solution": false
    }
   },
   "source": [
    "# Exercise Sheet 02: Decision Trees"
   ]
  },
  {
   "cell_type": "markdown",
   "metadata": {
    "nbgrader": {
     "grade": false,
     "grade_id": "cell-a85c8970c448755a",
     "locked": true,
     "schema_version": 1,
     "solution": false
    }
   },
   "source": [
    "## Introduction\n",
    "By now everyone should have found a group. If someone still has none but wants to participate in the course please contact one of the tutors.\n",
    "\n",
    "This week's sheet should be solved and handed in before the end of **Sunday, April 22, 2018**. If you need help (and Google and other resources were not enough), feel free to contact your groups designated tutor or whom ever of us you run into first. Please upload your results to your group's studip folder."
   ]
  },
  {
   "cell_type": "markdown",
   "metadata": {
    "nbgrader": {
     "grade": false,
     "grade_id": "math-euclid",
     "locked": true,
     "schema_version": 1,
     "solution": false
    }
   },
   "source": [
    "## Assignment 0: Math recap (Euclidean Space) [2 Bonus Points]\n",
    "\n",
    "This exercise is supposed to be very easy and is voluntary. There will be a similar exercise on every sheet.\n",
    "It is intended to revise some basic mathematical notions that are assumed throughout this class and to allow you to check if you are comfortable with them.\n",
    "Usually you should have no problem to answer these questions offhand, but if you feel unsure, this is a good time to look them up again. You are always welcome to discuss questions with the tutors or in the practice session.\n",
    "Also, if you have a (math) topic you would like to recap, please let us know."
   ]
  },
  {
   "cell_type": "markdown",
   "metadata": {
    "nbgrader": {
     "grade": false,
     "grade_id": "math-euclid-q1",
     "locked": true,
     "schema_version": 1,
     "solution": false
    }
   },
   "source": [
    "**a)** What is a *Euclidean space*? What is the *Cartesian plane*? How are they usually denoted? How to write points in these spaces?"
   ]
  },
  {
   "cell_type": "markdown",
   "metadata": {
    "collapsed": true,
    "nbgrader": {
     "grade": true,
     "grade_id": "math-euclid-a1",
     "locked": false,
     "points": 0,
     "schema_version": 1,
     "solution": true
    },
    "solution": true
   },
   "source": [
    "A *Euclidean space* is a space in which the axioms of Euclidean geometry hold. There is one such space for each dimension $n$. One usually uses Cartesian coordinates, i.e. tuples of real numbers, to refer to points in these spaces, so the *Cartesian plane* is the two-dimensional Eucliden space modeled by pairs of real coordinates. The $n$-dimensional Euclidean space is usually denoted by\n",
    "$$\\mathbb{R}^n = \\underbrace{\\mathbb{R}\\times\\ldots\\times\\mathbb{R}}_{n\\text{-times}}$$\n",
    "(sometimes also $\\mathbf{R}^n$). Points in that space are hence denoted by $n$-tuples of real numbers,\n",
    "$$\\vec{x}=\\mathbf{x} = (x_1,\\ldots,x_n)\\in\\mathbb{R}^n$$"
   ]
  },
  {
   "cell_type": "markdown",
   "metadata": {
    "nbgrader": {
     "grade": false,
     "grade_id": "math-euclid-q2",
     "locked": true,
     "schema_version": 1,
     "solution": false
    }
   },
   "source": [
    "**b)** What is the *norm* of a vector in a Euclidean space? How to *add* and *substract* two vectors? How is the *Euclidean distance* defined? Are there other ways to measure distances?"
   ]
  },
  {
   "cell_type": "markdown",
   "metadata": {
    "collapsed": true,
    "nbgrader": {
     "grade": true,
     "grade_id": "math-euclid-a2",
     "locked": false,
     "points": 0,
     "schema_version": 1,
     "solution": true
    },
    "solution": true
   },
   "source": [
    "The *(Euclidean) norm* of a vector\n",
    "\n",
    "$$\\|\\vec{x}\\| = \\sqrt{x_1^2+\\ldots+x_n^2}$$\n",
    "\n",
    "it can be interpreted as the *length* of the vector. The sum of two vectors is defined as\n",
    "$$\\vec{x}+\\vec{y} = \\begin{pmatrix} x_1 \\\\ \\vdots \\\\ x_n\\end{pmatrix}+\n",
    "\\begin{pmatrix} y_1 \\\\ \\vdots \\\\ y_n\\end{pmatrix} =\n",
    "\\begin{pmatrix} x_1+y_1 \\\\ \\vdots \\\\ x_n+y_n\\end{pmatrix}$$\n",
    "and analogously the difference is\n",
    "$$\\vec{x}-\\vec{y} = \\begin{pmatrix} x_1 \\\\ \\vdots \\\\ x_n\\end{pmatrix}-\n",
    "\\begin{pmatrix} y_1 \\\\ \\vdots \\\\ y_n\\end{pmatrix} =\n",
    "\\begin{pmatrix} x_1-y_1 \\\\ \\vdots \\\\ x_n-y_n\\end{pmatrix}$$\n",
    "The euclidean distance is defined as the norm of the difference of two vectors\n",
    "\n",
    "$$d(\\vec{x},\\vec{y}) = \\|\\vec{x}-\\vec{y}\\| = \\sqrt{(x_1-y_1)^2+\\ldots+(x_n-y_n)^2} = \\left(\\sum_{i=1}^n (x_i-y_i)^{2}\\right)^{\\frac{1}{2}}$$\n",
    "\n",
    "(remember the Pythagorean theorem). Be replacing 2 by $p$ one gets the $p$-norm instead of the Euclidean norm, from which one then gets the $p$-metric to measure distances. There are even more distance measures."
   ]
  },
  {
   "cell_type": "markdown",
   "metadata": {
    "nbgrader": {
     "grade": false,
     "grade_id": "math-euclid-q3",
     "locked": true,
     "schema_version": 1,
     "solution": false
    }
   },
   "source": [
    "**c)** What is the (standard) *scalar product* of two vectors? How is it related to the length and angle between these vectors? Name some use cases."
   ]
  },
  {
   "cell_type": "markdown",
   "metadata": {
    "collapsed": true,
    "nbgrader": {
     "grade": true,
     "grade_id": "math-euclid-a3",
     "locked": false,
     "points": 0,
     "schema_version": 1,
     "solution": true
    },
    "solution": true
   },
   "source": [
    "The scalar product of two vectors $\\vec{x}$ and $\\vec{y}$ is defined as\n",
    "\n",
    "$$ \\vec{x}\\cdot\\vec{y} = \\langle\\vec{x},\\vec{y}\\rangle = x_1y_1+\\ldots+x_ny_n = \\sum_{i=1}^{n}x_iy_i$$\n",
    "\n",
    "On a geometric level the scalar product can be computed as\n",
    "\n",
    "$$\\vec{x}\\cdot\\vec{y} = \\|\\vec{x}\\| \\|\\vec{y}\\| \\cos(\\sphericalangle(\\vec{x},\\vec{y}))$$\n",
    "\n",
    "where $\\sphericalangle(\\vec{x},\\vec{y})$ denotes the angle between vectors $\\vec{x}$ and $\\vec{y}$. The scalar product is sometimes used as a similarity measure, which will be $0$ for orthogonal (i.e. unrelated) vectors."
   ]
  },
  {
   "cell_type": "markdown",
   "metadata": {
    "nbgrader": {
     "grade": false,
     "grade_id": "1",
     "locked": true,
     "schema_version": 1,
     "solution": false
    }
   },
   "source": [
    "## Assignment 1: Decision Trees [2 Points]\n",
    "Draw the decision trees for the following boolean functions. Either use pen and paper and bring the results to the feedback session or employ your ASCII artist within below. \n",
    "\n",
    "Note: $\\oplus := xor$, that means one of the operands has to be true, while the other one has to be false:\n",
    "\n",
    "$\\oplus$ | $B$ | $\\neg B$\n",
    "---------|-----|---------\n",
    "$A$      |  f  |    t\n",
    "$\\neg A$ |  t  |    f"
   ]
  },
  {
   "cell_type": "markdown",
   "metadata": {
    "nbgrader": {
     "grade": false,
     "grade_id": "1a",
     "locked": true,
     "schema_version": 1,
     "solution": false
    }
   },
   "source": [
    "### a) $\\neg A \\wedge B$"
   ]
  },
  {
   "cell_type": "markdown",
   "metadata": {
    "nbgrader": {
     "grade": true,
     "grade_id": "1a_answer",
     "locked": false,
     "points": 0.5,
     "schema_version": 1,
     "solution": true
    },
    "solution": true
   },
   "source": [
    "\n",
    "         A\n",
    "        / \\\n",
    "     t /   \\ f\n",
    "      /     \\\n",
    "     No      B\n",
    "            / \\\n",
    "         t /   \\ f\n",
    "          /     \\\n",
    "        Yes     No\n"
   ]
  },
  {
   "cell_type": "markdown",
   "metadata": {
    "nbgrader": {
     "grade": false,
     "grade_id": "1b",
     "locked": true,
     "schema_version": 1,
     "solution": false
    }
   },
   "source": [
    "### b) $A \\oplus B$ "
   ]
  },
  {
   "cell_type": "markdown",
   "metadata": {
    "nbgrader": {
     "grade": true,
     "grade_id": "1b_answer",
     "locked": false,
     "points": 0.5,
     "schema_version": 1,
     "solution": true
    },
    "solution": true
   },
   "source": [
    "               A\n",
    "              / \\\n",
    "         t  /     \\  f\n",
    "          /         \\\n",
    "         B           B\n",
    "        / \\         / \\\n",
    "     t /   \\ f   t /   \\ f\n",
    "      /     \\     /     \\\n",
    "     No     Yes Yes     No"
   ]
  },
  {
   "cell_type": "markdown",
   "metadata": {
    "nbgrader": {
     "grade": false,
     "grade_id": "1c",
     "locked": true,
     "schema_version": 1,
     "solution": false
    }
   },
   "source": [
    "### c) $A \\vee (B \\wedge C) \\vee (\\neg C \\wedge D)$"
   ]
  },
  {
   "cell_type": "markdown",
   "metadata": {
    "nbgrader": {
     "grade": true,
     "grade_id": "1c_answer",
     "locked": false,
     "points": 0.5,
     "schema_version": 1,
     "solution": true
    },
    "solution": true
   },
   "source": [
    "            A\n",
    "           / \\\n",
    "      t  /     \\  f\n",
    "       /         \\\n",
    "     Yes          C\n",
    "                 / \\\n",
    "            t  /     \\  f\n",
    "             /         \\\n",
    "            B           D\n",
    "           / \\         / \\\n",
    "        t /   \\ f   t /   \\ f\n",
    "         /     \\     /     \\\n",
    "       Yes     No  Yes     No"
   ]
  },
  {
   "cell_type": "markdown",
   "metadata": {
    "nbgrader": {
     "grade": false,
     "grade_id": "1d",
     "locked": true,
     "schema_version": 1,
     "solution": false
    }
   },
   "source": [
    "### d) $(A \\rightarrow (B \\wedge \\neg C)) \\vee (A \\wedge B)$"
   ]
  },
  {
   "cell_type": "markdown",
   "metadata": {
    "nbgrader": {
     "grade": true,
     "grade_id": "1d_answer",
     "locked": false,
     "points": 0.5,
     "schema_version": 1,
     "solution": true
    },
    "solution": true
   },
   "source": [
    "$= (\\neg A \\vee (B \\wedge \\neg C)) \\vee (A \\wedge B)$\n",
    "\n",
    "$= \\neg A \\vee (A \\wedge B) \\vee (B \\wedge \\neg C)$\n",
    "\n",
    "$= \\neg A \\vee (A \\wedge B)$\n",
    "\n",
    "$= \\neg A \\vee  B$\n",
    "\n",
    "              A\n",
    "             / \\\n",
    "          t /   \\ f\n",
    "           /     \\\n",
    "          B      Yes\n",
    "         / \\\n",
    "      t /   \\ f\n",
    "       /     \\\n",
    "     Yes     No"
   ]
  },
  {
   "cell_type": "markdown",
   "metadata": {
    "nbgrader": {
     "grade": false,
     "grade_id": "2",
     "locked": true,
     "schema_version": 1,
     "solution": false
    }
   },
   "source": [
    "## Assignment 2: Entropy and Information Gain [8 Points]\n",
    "\n",
    "In many machine learning applications it is crucial to determine which criterions are necessary for a good classification. Decision trees have those criterions close to the root, imposing an order from significant to less significant criterions. One way to select the most important criterion is to compare its information gain or its entropy to others. The following dataset is a hands-on example for this method. \n",
    "\n",
    "Consider the following attributes with their possible values:\n",
    "\n",
    "  * $raining = \\{yes, no\\}$\n",
    "  * $tired = \\{yes, no\\}$\n",
    "  * $late = \\{yes, no\\}$\n",
    "  * $distance = \\{short, medium, long\\}$\n",
    "\n",
    "And a training data set consisting of those attributes:\n",
    "\n",
    "| #  | raining | tired | late | distance | attend_party |\n",
    "|----|---------|-------|------|----------|--------------|\n",
    "| 1  | yes     | no    | no   | short    | **yes**      |\n",
    "| 2  | yes     | no    | yes  | medium   | **no**       |\n",
    "| 3  | no      | yes   | no   | long     | **no**       |\n",
    "| 4  | yes     | yes   | yes  | short    | **no**       |\n",
    "| 5  | yes     | no    | no   | short    | **yes**      |\n",
    "| 6  | no      | no    | no   | medium   | **yes**      |\n",
    "| 7  | no      | yes   | no   | long     | **no**       |\n",
    "| 8  | yes     | no    | yes  | short    | **no**       |\n",
    "| 9  | yes     | yes   | no   | short    | **yes**      |\n",
    "| 10 | no      | yes   | no   | medium   | **no**       |\n",
    "| 11 | no      | yes   | no   | long     | **no**       |\n",
    "| 12 | no      | yes   | yes  | short    | **no**       |"
   ]
  },
  {
   "cell_type": "markdown",
   "metadata": {
    "nbgrader": {
     "grade": false,
     "grade_id": "2a",
     "locked": true,
     "schema_version": 1,
     "solution": false
    }
   },
   "source": [
    "### a)\n",
    "\n",
    "Build the root node of a decision tree from the training samples given in the table above by calculating the information gain for all four attributes (raining, tired, late, distance).\n",
    "\n",
    "$$\\operatorname{Gain}(S,A) = \\operatorname{Entropy}(S) - \\sum_{v \\in \\operatorname{Values}(A)} \\frac{|S_v|}{|S|}\\operatorname{Entropy}(S_v)$$\n",
    "\n",
    "$$\\operatorname{Entropy}(S) = -p_{\\oplus} log_{2} p_{\\oplus} - p_{\\ominus} log_{2} p_{\\ominus}$$\n",
    "\n",
    "$S$ is the set of all data samples. $S_v$ is the subset for which attribute $A$ has value $v$. An example for attribute **tired** with value $yes$ would be:\n",
    "$$|S_{yes}| = 7, S_{yes}:[1+, 6−]$$"
   ]
  },
  {
   "cell_type": "markdown",
   "metadata": {
    "nbgrader": {
     "grade": true,
     "grade_id": "2a_answer",
     "locked": false,
     "points": 4,
     "schema_version": 1,
     "solution": true
    },
    "solution": true
   },
   "source": [
    "*Caution: some pretty intense rounding was applied to the following numbers. So your results might differ, but they should be in the same ballpark!*\n",
    "\n",
    "Entropy of the whole dataset:\n",
    "\n",
    "$$Entropy\\left(S\\right) = -\\frac{4}{12} \\log_{2} \\frac{4}{12} - \\frac{8}{12} \\log_{2} \\frac{8}{12} \\approx 0.92$$\n",
    "\n",
    "Attribute **raining**: \n",
    "$$\\left|S_{yes}\\right|:6 , S_{yes}:[3+,3-]$$\n",
    "\n",
    "$$Entropy\\left(S_{yes}\\right) = -\\frac{3}{6} \\log_{2} \\frac{3}{6}-\\frac{3}{6} \\log_{2} \\frac{3}{6} = 1$$\n",
    "\n",
    "$$\\left|S_{no}\\right|:6 , S_{no}:[1+,5-]$$\n",
    "\n",
    "$$Entropy\\left(S_{no}\\right) = -\\frac{1}{6} \\log_{2} \\frac{1}{6}-\\frac{5}{6} \\log_{2} \\frac{5}{6} \\approx 0.65$$\n",
    "\n",
    "$$Gain\\left(S,raining\\right) \\approx 0.92 - \\left(\\frac{6}{12}\\cdot 1 + \\frac{6}{12}\\cdot 0.65\\right) = 0.095$$\n",
    "\n",
    "Attribute **tired**:\n",
    "$$\\left|S_{yes}\\right|:7 , S_{yes}:[1+,6-]$$\n",
    "\n",
    "$$Entropy\\left(S_{yes}\\right) = -\\frac{1}{7} \\log_{2} \\frac{1}{7}-\\frac{6}{7} \\log_{2} \\frac{6}{7} \\approx 0.59$$\n",
    "\n",
    "$$\\left|S_{no}\\right|:5 , S_{no}:[3+,2-]$$\n",
    "\n",
    "$$Entropy\\left(S_{no}\\right) = -\\frac{3}{5} \\log_{2} \\frac{3}{5}-\\frac{2}{5} \\log_{2} \\frac{2}{5} \\approx 0.97$$\n",
    "\n",
    "$$Gain\\left(S,tired\\right) \\approx 0.92 - \\left(\\frac{7}{12}\\cdot 0.59 + \\frac{5}{12}\\cdot 0.97\\right) \\approx 0.171$$\n",
    "\n",
    "Attribute **late**:\n",
    "$$\\left|S_{yes}\\right|:4 , S_{yes}:[0+,4-]$$\n",
    "\n",
    "$$Entropy\\left(S_{yes}\\right) = -\\frac{0}{4} \\log_{2} \\frac{0}{4}-\\frac{4}{4} \\log_{2} \\frac{4}{4} = 0$$\n",
    "\n",
    "$$\\left|S_{no}\\right|:8 , S_{no}:[4+,4-]$$\n",
    "\n",
    "$$Entropy\\left(S_{no}\\right) = -\\frac{4}{8} \\log_{2} \\frac{4}{8}-\\frac{4}{8} \\log_{2} \\frac{4}{8} = 1$$\n",
    "\n",
    "$$Gain\\left(S,late\\right) \\approx 0.92 - \\left(\\frac{4}{12}\\cdot 0 + \\frac{8}{12}\\cdot 1\\right) \\approx 0.253$$\n",
    "\n",
    "Attribute **distance**:\n",
    "$$\\left|S_{short}\\right|:6 , S_{short}:[3+,3-]$$\n",
    "\n",
    "$$Entropy\\left(S_{short}\\right) = -\\frac{3}{6} \\log_{2} \\frac{3}{6}-\\frac{3}{6} \\log_{2} \\frac{3}{6} = 1$$\n",
    "\n",
    "$$\\left|S_{medium}\\right|:3 , S_{medium}:[1+,2-]$$\n",
    "\n",
    "$$Entropy\\left(S_{medium}\\right) = -\\frac{1}{3} \\log_{2} \\frac{1}{3}-\\frac{2}{3} \\log_{2} \\frac{2}{3} \\approx 0.918$$\n",
    "\n",
    "$$\\left|S_{long}\\right|:3 , S_{long}:[0+,3-]$$\n",
    "\n",
    "$$Entropy\\left(S_{long}\\right) = -\\frac{0}{3} \\log_{2} \\frac{0}{3}-\\frac{3}{3} \\log_{2} \\frac{3}{3} = 0$$\n",
    "\n",
    "$$Gain\\left(S,distance\\right) \\approx 0.92 - \\left(\\frac{6}{12}\\cdot 1 + \\frac{3}{12}\\cdot 0.918 + \\frac{3}{12}\\cdot 0\\right) = 0.191$$\n",
    "\n",
    "The information gain is greatest for the **late** attribute. "
   ]
  },
  {
   "cell_type": "markdown",
   "metadata": {
    "nbgrader": {
     "grade": false,
     "grade_id": "2b",
     "locked": true,
     "schema_version": 1,
     "solution": false
    }
   },
   "source": [
    "### b)\n",
    "\n",
    "Perform the same calculation as in **a)** but use the gain ratio instead of the information gain. Does the result for the root node change?\n",
    "\n",
    "$$\\operatorname{GainRatio}(S,A) = \\frac{\\operatorname{Gain}(S,A)}{\\operatorname{SplitInformation}(S,A)}$$\n",
    "\n",
    "$$\\operatorname{SplitInformation}(S,A) = - \\sum_{v \\in \\operatorname{Values}(A)} \\frac{|S_v|}{|S|} \\log_{2} \\frac{|S_{v}|}{|S|}$$"
   ]
  },
  {
   "cell_type": "markdown",
   "metadata": {
    "nbgrader": {
     "grade": true,
     "grade_id": "2b_answer",
     "locked": false,
     "points": 4,
     "schema_version": 1,
     "solution": true
    },
    "solution": true
   },
   "source": [
    "Attribute **raining**:\n",
    "\n",
    "$$SplitInformation(S,raining) = -\\left(\\frac{6}{12} \\log_{2} \\frac{6}{12} + \\frac{6}{12} \\log_{2} \\frac{6}{12}\\right) = 1$$\n",
    "$$GainRatio(S,raining) = \\frac{0.095}{1} = 0.095$$\n",
    "\n",
    "Attribute **tired**:\n",
    "\n",
    "$$SplitInformation(S,tired) = -\\left(\\frac{7}{12} \\log_{2} \\frac{7}{12} + \\frac{5}{12} \\log_{2} \\frac{5}{12}\\right) = 0.98$$\n",
    "$$GainRatio(S, tired) = \\frac{0.171}{0.98} \\approx 0.174$$\n",
    "\n",
    "Attribute **late**:\n",
    "\n",
    "$$SplitInformation(S,late) = -\\left(\\frac{4}{12} \\log_{2} \\frac{4}{12} + \\frac{8}{12} \\log_{2} \\frac{8}{12}\\right) = 0.918$$\n",
    "$$GainRatio(S,late) = \\frac{0.253}{0.918} \\approx 0.276$$\n",
    "\n",
    "Attribute **distance**:\n",
    "\n",
    "$$SplitInformation(S,distance) = -\\left(\\frac{6}{12} \\log_{2} \\frac{6}{12} + \\frac{3}{12} \\log_{2} \\frac{3}{12} + \\frac{3}{12} \\log_{2} \\frac{3}{12}\\right) = 1.5$$\n",
    "$$GainRatio(S,distance) = \\frac{0.191}{1.5} \\approx 0.127$$\n",
    "\n",
    "We should still use the **late** attribute."
   ]
  },
  {
   "cell_type": "markdown",
   "metadata": {
    "nbgrader": {
     "grade": false,
     "grade_id": "3",
     "locked": true,
     "schema_version": 1,
     "solution": false
    }
   },
   "source": [
    "## Assignment 3: ID3 algorithm [5 Points]\n",
    "\n",
    "Implement the following two functions in Python. Take a look at the `assert`s to see how the function should behave. An assert is a condition that your function is required to pass. Most of the conditions here are taken from the lecture slides (ML-03, Slide 12 & 13). Don't worry if you do not get all asserts to pass, just comment the failing ones out."
   ]
  },
  {
   "cell_type": "markdown",
   "metadata": {
    "nbgrader": {
     "grade": false,
     "grade_id": "3a_info",
     "locked": true,
     "schema_version": 1,
     "solution": false
    }
   },
   "source": [
    "### a) Entropy\n",
    "\n",
    "$$\\operatorname{Entropy}(S) = - \\sum_{i=1...c} p_i \\log_2 p_i$$"
   ]
  },
  {
   "cell_type": "code",
   "execution_count": 1,
   "metadata": {
    "collapsed": true,
    "nbgrader": {
     "grade": false,
     "grade_id": "3a_code",
     "locked": false,
     "schema_version": 1,
     "solution": true
    }
   },
   "outputs": [],
   "source": [
    "from math import log2\n",
    "def entropy(s):\n",
    "    \"\"\"\n",
    "    Calculate the entropy for a given target value set. \n",
    "    \n",
    "    Args:\n",
    "        s (list): Target classes for specific observations.\n",
    "        \n",
    "    Returns:\n",
    "        The entropy of s.\n",
    "    \"\"\"\n",
    "    ### BEGIN SOLUTION\n",
    "    return -sum((s.count(target) / len(s)) * log2(s.count(target) / len(s)) \n",
    "                for target in set(s))\n",
    "    ### END SOLUTION\n",
    "\n",
    "# See ML-03, Slide 12 & 13"
   ]
  },
  {
   "cell_type": "code",
   "execution_count": 2,
   "metadata": {
    "collapsed": true,
    "nbgrader": {
     "grade": true,
     "grade_id": "3a_test",
     "locked": true,
     "points": 1,
     "schema_version": 1,
     "solution": false
    }
   },
   "outputs": [],
   "source": [
    "assert entropy([1,1,1,0,0,0]) == 1.0\n",
    "assert round(entropy([1,1,1,1,0,0,0]), 3) == 0.985\n",
    "assert round(entropy([1,1,1,1,1,1,0]), 3) == 0.592\n",
    "assert round(entropy([1,1,1,1,1,1,0,0]), 3) == 0.811\n",
    "assert round(entropy([2,2,1,1,0,0]), 3) == 1.585\n",
    "assert round(entropy([2,2,2,1,0]), 3) == 1.371\n",
    "assert round(entropy([2,2,2,0,0]), 3) == 0.971\n",
    "assert entropy(['yes','yes','yes','no','no','no']) == 1.0"
   ]
  },
  {
   "cell_type": "markdown",
   "metadata": {
    "nbgrader": {
     "grade": false,
     "grade_id": "3b",
     "locked": true,
     "schema_version": 1,
     "solution": false
    }
   },
   "source": [
    "### b)  Information Gain\n",
    "\n",
    "$$\\operatorname{Gain}(S,A) = \\operatorname{Entropy}(S) - \\sum_{v \\in \\operatorname{Values}(A)} \\frac{|S_v|}{|S|} \\operatorname{Entropy}(S_v)$$"
   ]
  },
  {
   "cell_type": "code",
   "execution_count": 9,
   "metadata": {
    "collapsed": true,
    "nbgrader": {
     "grade": false,
     "grade_id": "3b_code",
     "locked": false,
     "schema_version": 1,
     "solution": true
    }
   },
   "outputs": [],
   "source": [
    "def gain(targets, attr_values):\n",
    "    \"\"\"\n",
    "    Calculates the expected reduction in entropy due to sorting on A.\n",
    "    \n",
    "    Args:\n",
    "        targets (list): Target classes for observations in attr_values.\n",
    "        attr_values (list): Values of each instance for the respective attribute.\n",
    "        \n",
    "    Returns:\n",
    "        The information gain of \n",
    "    \"\"\"\n",
    "    ### BEGIN SOLUTION\n",
    "    sigma = 0\n",
    "    for v in set(attr_values): # Sets only contain unique values.\n",
    "        S_v = [targets[key] for (key, v_) in enumerate(attr_values) if v_ == v]\n",
    "        sigma += ((len(S_v) / len(targets)) * entropy(S_v))\n",
    "    return entropy(targets) - sigma\n",
    "    ### END SOLUTION\n",
    "\n",
    "# See ML-03, Slide 12 & 13\n"
   ]
  },
  {
   "cell_type": "code",
   "execution_count": 14,
   "metadata": {
    "nbgrader": {
     "grade": true,
     "grade_id": "3b_test",
     "locked": true,
     "points": 1,
     "schema_version": 1,
     "solution": false
    }
   },
   "outputs": [],
   "source": [
    "# The lists here can each be seen as one column of a table such as the one in assignment 2. \n",
    "# Assert targets would be the last column, while the attribute values are the values of one attribute, here the \n",
    "# example rain and distance\n",
    "assert_targets = [\"no\",\"no\",\"yes\",\"yes\",\"yes\",\"no\",\"yes\",\"no\",\"yes\",\"yes\",\"yes\",\"yes\",\"yes\",\"no\"]\n",
    "assert_attribute_values_1 = [\"yes\", \"yes\",\"yes\",\"yes\",\"no\", \"no\", \"no\", \"yes\", \"no\", \"no\", \"no\",\"yes\", \"no\", \"yes\"]\n",
    "assert_attribute_values_2 = [\"high\",\"low\",\"medium\",\"high\",\"high\",\"medium\",\"low\",\"medium\",\"low\",\"high\",\"high\",\"medium\",\"low\",\"low\"]\n",
    "assert_attribute_values_3 = [0,1,0,0,0,1,1,0,0,0,1,1,0,1]\n",
    "assert round(gain(assert_targets, assert_attribute_values_1), 3) == 0.152\n",
    "assert round(gain(assert_targets, assert_attribute_values_2), 3) == 0.05\n",
    "assert round(gain(assert_targets, assert_attribute_values_3), 3) == 0.048"
   ]
  },
  {
   "cell_type": "markdown",
   "metadata": {
    "nbgrader": {
     "grade": false,
     "grade_id": "3c",
     "locked": true,
     "schema_version": 1,
     "solution": false
    }
   },
   "source": [
    "### c) ID3\n",
    "\n",
    "In the next two cells we have implemented the ID3 algorithm following the pseudocode from [Wikipedia](https://en.wikipedia.org/wiki/ID3_algorithm#Pseudocode) - it relies on your two functions from above, `entropy` and `gain`. Try to understand what the code does and replace `YOUR CODE HERE` with meaningful comments describing the respective parts of the code. Though its often annoying, being able to read other peoples code is one of the key skills (and obstacle) in software engineering. So give it a try! Otherwise you are of course welcome to write your own implementation."
   ]
  },
  {
   "cell_type": "code",
   "execution_count": 5,
   "metadata": {
    "collapsed": true,
    "nbgrader": {
     "grade": true,
     "grade_id": "3c_answer",
     "locked": false,
     "points": 3,
     "schema_version": 1,
     "solution": true
    }
   },
   "outputs": [],
   "source": [
    "from collections import Counter, namedtuple\n",
    "\n",
    "\n",
    "class Node(namedtuple('Node', 'label children')):\n",
    "    \"\"\"\n",
    "    A small node representation with a pretty string representation.\n",
    "    \"\"\"\n",
    "    def __str__(self, level=0):\n",
    "        return_str ='{}{!s}\\n'.format(' ' * level * 4, self.label)\n",
    "        for child in self.children:\n",
    "            return_str += child.__str__(level + 1)\n",
    "        return return_str\n",
    "\n",
    "def id3(examples, attributes, target_attribute=None): \n",
    "    \"\"\"\n",
    "    Calculate a tree of Nodes (fields: label [string], children [list]) \n",
    "    using the ID3 algorithm found as pseudocode on Wikipedia.\n",
    "    \"\"\"\n",
    "    ### BEGIN SOLUTION\n",
    "    # Create a root node for the tree\n",
    "    # If all examples are positive, return the single-node tree Root, with label = \n",
    "    # If all examples are negative, return the single-node tree Root, with label = -.\n",
    "    ### END SOLUTION\n",
    "    if all(target == examples['targets'][0] for target in examples['targets']):\n",
    "        return Node('Result: {!s}'.format(examples['target_names'][examples['targets'][0]]), [])\n",
    "    \n",
    "    ### BEGIN SOLUTION\n",
    "    # If number of predicting attributes is empty, then return the single node tree Root,\n",
    "    # with label = most common value of the target attribute in the examples.\n",
    "    ### END SOLUTION\n",
    "    if len(attributes) == 0:\n",
    "        attr = Counter(data_sample[target_attribute] for data_sample in examples['data']).most_common(1)\n",
    "        return Node('Attribute: {!s}, {!s} occurences'.format(examples['attributes'][target_attribute], attr), [])\n",
    "    \n",
    "    ### BEGIN SOLUTION\n",
    "    # A <-- The Attribute that best classifies examples.\n",
    "    ### END SOLUTION\n",
    "    gains = [gain(examples['targets'], [r[attribute] for r in examples['data']]) \n",
    "             for attribute in attributes]\n",
    "    max_gain_attribute = attributes[gains.index(max(gains))]\n",
    "    \n",
    "    ### BEGIN SOLUTION\n",
    "    # Create a root node for the tree (2)\n",
    "    # Decision Tree attribute for Root = A.\n",
    "    ### END SOLUTION\n",
    "    root = Node('Attribute: {!s} (gain {!s})'.format(examples['attributes'][max_gain_attribute], \n",
    "                                                     round(max(gains), 4)), [])\n",
    "    \n",
    "    ### BEGIN SOLUTION\n",
    "    # Otherwise Begin\n",
    "    # For each possible value, vi, of A,\n",
    "    ### END SOLUTION\n",
    "    for vi in set(data_sample[max_gain_attribute] for data_sample in examples['data']):\n",
    "        ### BEGIN SOLUTION\n",
    "        # Add a new tree branch below Root, corresponding to the test A = vi.\n",
    "        ### END SOLUTION\n",
    "        child = Node('Value: {!s}'.format(vi), [])\n",
    "        root.children.append(child)\n",
    "        \n",
    "        ### BEGIN SOLUTION\n",
    "        # Let Examples(vi) be the subset of examples that have the value vi for A.\n",
    "        ### END SOLUTION\n",
    "        vi_indices = [idx for idx, data_sample in enumerate(examples['data']) \n",
    "                          if data_sample[max_gain_attribute] == vi]\n",
    "        examples_vi = dict(examples)\n",
    "        examples_vi['data'] = [examples['data'][i] for i in vi_indices]\n",
    "        examples_vi['targets'] = [examples['targets'][i] for i in vi_indices]\n",
    "        \n",
    "        if examples_vi['data']:\n",
    "            ### BEGIN SOLUTION\n",
    "            # If Examples(vi) is not empty below this new branch \n",
    "            # add the subtree ID3 (Examples(vi), Attributes – {A}).\n",
    "            ### END SOLUTION\n",
    "            child.children.append(\n",
    "                id3(examples_vi,\n",
    "                    [attribute_ for attribute_ in attributes if not attribute_ == max_gain_attribute],\n",
    "                    max_gain_attribute)\n",
    "            )\n",
    "            \n",
    "        else:\n",
    "            ### BEGIN SOLUTION\n",
    "            # If Examples(vi) is empty\n",
    "            # Then below this new branch add a leaf node with label = most common target value in the examples.\n",
    "            ### END SOLUTION\n",
    "            attr = Counter(examples_vi['targets']).most_common(1)\n",
    "            label = 'Attribute: {!s}, {!s} occurences'.format(examples['attributes'][target_attribute], attr)\n",
    "            child.children.append(Node(label, []))\n",
    "\n",
    "    return root"
   ]
  },
  {
   "cell_type": "markdown",
   "metadata": {},
   "source": [
    "### d) The algorithm is applied to two data sets. Run those and discuss the differences. For which data set is the ID3 algorithm better suited and why?"
   ]
  },
  {
   "cell_type": "markdown",
   "metadata": {},
   "source": [
    "YOUR ANSWER HERE\n",
    "\n",
    "The problem with the iris data set is that since the ID3 algorithm works with the assumption of nominal variables it splits on every unique value for continuous data. Thus the tree grows very wide."
   ]
  },
  {
   "cell_type": "markdown",
   "metadata": {},
   "source": [
    "This code runs the ID3 algorithm on the party data set which you already know from assignment 2."
   ]
  },
  {
   "cell_type": "code",
   "execution_count": 6,
   "metadata": {
    "scrolled": false
   },
   "outputs": [
    {
     "name": "stdout",
     "output_type": "stream",
     "text": [
      "Attribute: late (gain 0.2516)\n",
      "    Value: yes\n",
      "        Result: no\n",
      "    Value: no\n",
      "        Attribute: distance (gain 0.75)\n",
      "            Value: long\n",
      "                Result: no\n",
      "            Value: short\n",
      "                Result: yes\n",
      "            Value: medium\n",
      "                Attribute: tired (gain 1.0)\n",
      "                    Value: yes\n",
      "                        Result: no\n",
      "                    Value: no\n",
      "                        Result: yes\n",
      "\n"
     ]
    }
   ],
   "source": [
    "import json\n",
    "\n",
    "with open('party.json', 'r') as party_file:\n",
    "    party = json.load(party_file)\n",
    "\n",
    "# Make sure our gain function handles the data set as expected.\n",
    "assert round(gain(party['targets'], [r[2] for r in party['data']]), 3) == 0.252\n",
    "\n",
    "# Apply ID3 algorithm\n",
    "tree_party = id3(party, list(range(len(party['attributes']))))\n",
    "\n",
    "print(tree_party)"
   ]
  },
  {
   "cell_type": "markdown",
   "metadata": {},
   "source": [
    "This code runs the ID3 algorithm on the famous iris flowser data set, which you will hear more about in assignment 4 below."
   ]
  },
  {
   "cell_type": "code",
   "execution_count": 7,
   "metadata": {
    "scrolled": true
   },
   "outputs": [
    {
     "name": "stdout",
     "output_type": "stream",
     "text": [
      "Attribute: petal length (gain 1.4463)\n",
      "    Value: 3.3\n",
      "        Result: Iris-versicolor\n",
      "    Value: 4.2\n",
      "        Result: Iris-versicolor\n",
      "    Value: 4.7\n",
      "        Result: Iris-versicolor\n",
      "    Value: 6.1\n",
      "        Result: Iris-virginica\n",
      "    Value: 1.6\n",
      "        Result: Iris-setosa\n",
      "    Value: 5.7\n",
      "        Result: Iris-virginica\n",
      "    Value: 5.2\n",
      "        Result: Iris-virginica\n",
      "    Value: 1.0\n",
      "        Result: Iris-setosa\n",
      "    Value: 3.0\n",
      "        Result: Iris-versicolor\n",
      "    Value: 5.6\n",
      "        Result: Iris-virginica\n",
      "    Value: 5.9\n",
      "        Result: Iris-virginica\n",
      "    Value: 5.3\n",
      "        Result: Iris-virginica\n",
      "    Value: 4.1\n",
      "        Result: Iris-versicolor\n",
      "    Value: 3.6\n",
      "        Result: Iris-versicolor\n",
      "    Value: 5.1\n",
      "        Attribute: sepal length (gain 0.5436)\n",
      "            Value: 5.8\n",
      "                Result: Iris-virginica\n",
      "            Value: 6.5\n",
      "                Result: Iris-virginica\n",
      "            Value: 6.0\n",
      "                Result: Iris-versicolor\n",
      "            Value: 6.3\n",
      "                Result: Iris-virginica\n",
      "            Value: 5.9\n",
      "                Result: Iris-virginica\n",
      "            Value: 6.9\n",
      "                Result: Iris-virginica\n",
      "    Value: 1.3\n",
      "        Result: Iris-setosa\n",
      "    Value: 1.1\n",
      "        Result: Iris-setosa\n",
      "    Value: 6.9\n",
      "        Result: Iris-virginica\n",
      "    Value: 6.6\n",
      "        Result: Iris-virginica\n",
      "    Value: 1.2\n",
      "        Result: Iris-setosa\n",
      "    Value: 4.3\n",
      "        Result: Iris-versicolor\n",
      "    Value: 5.5\n",
      "        Result: Iris-virginica\n",
      "    Value: 3.7\n",
      "        Result: Iris-versicolor\n",
      "    Value: 4.4\n",
      "        Result: Iris-versicolor\n",
      "    Value: 5.4\n",
      "        Result: Iris-virginica\n",
      "    Value: 6.7\n",
      "        Result: Iris-virginica\n",
      "    Value: 6.3\n",
      "        Result: Iris-virginica\n",
      "    Value: 3.5\n",
      "        Result: Iris-versicolor\n",
      "    Value: 4.5\n",
      "        Attribute: sepal length (gain 0.5436)\n",
      "            Value: 6.0\n",
      "                Result: Iris-versicolor\n",
      "            Value: 6.4\n",
      "                Result: Iris-versicolor\n",
      "            Value: 5.7\n",
      "                Result: Iris-versicolor\n",
      "            Value: 5.6\n",
      "                Result: Iris-versicolor\n",
      "            Value: 6.2\n",
      "                Result: Iris-versicolor\n",
      "            Value: 5.4\n",
      "                Result: Iris-versicolor\n",
      "            Value: 4.9\n",
      "                Result: Iris-virginica\n",
      "    Value: 4.6\n",
      "        Result: Iris-versicolor\n",
      "    Value: 1.5\n",
      "        Result: Iris-setosa\n",
      "    Value: 3.8\n",
      "        Result: Iris-versicolor\n",
      "    Value: 5.8\n",
      "        Result: Iris-virginica\n",
      "    Value: 4.0\n",
      "        Result: Iris-versicolor\n",
      "    Value: 6.0\n",
      "        Result: Iris-virginica\n",
      "    Value: 5.0\n",
      "        Attribute: sepal length (gain 0.8113)\n",
      "            Value: 6.7\n",
      "                Result: Iris-versicolor\n",
      "            Value: 5.7\n",
      "                Result: Iris-virginica\n",
      "            Value: 6.3\n",
      "                Result: Iris-virginica\n",
      "            Value: 6.0\n",
      "                Result: Iris-virginica\n",
      "    Value: 6.4\n",
      "        Result: Iris-virginica\n",
      "    Value: 3.9\n",
      "        Result: Iris-versicolor\n",
      "    Value: 1.7\n",
      "        Result: Iris-setosa\n",
      "    Value: 1.9\n",
      "        Result: Iris-setosa\n",
      "    Value: 4.8\n",
      "        Attribute: sepal length (gain 1.0)\n",
      "            Value: 6.8\n",
      "                Result: Iris-versicolor\n",
      "            Value: 5.9\n",
      "                Result: Iris-versicolor\n",
      "            Value: 6.2\n",
      "                Result: Iris-virginica\n",
      "            Value: 6.0\n",
      "                Result: Iris-virginica\n",
      "    Value: 4.9\n",
      "        Attribute: sepal width (gain 0.971)\n",
      "            Value: 2.7\n",
      "                Result: Iris-virginica\n",
      "            Value: 3.0\n",
      "                Result: Iris-virginica\n",
      "            Value: 2.8\n",
      "                Result: Iris-virginica\n",
      "            Value: 2.5\n",
      "                Result: Iris-versicolor\n",
      "            Value: 3.1\n",
      "                Result: Iris-versicolor\n",
      "    Value: 1.4\n",
      "        Result: Iris-setosa\n",
      "\n"
     ]
    }
   ],
   "source": [
    "import json\n",
    "\n",
    "with open('iris.json', 'r') as iris_file:\n",
    "    iris = json.load(iris_file)\n",
    "\n",
    "# Make sure our gain function handles the data set as expected.\n",
    "assert round(gain(iris['targets'], [r[2] for r in iris['data']]), 3) == 1.446\n",
    "\n",
    "# Apply ID3 algorithm\n",
    "tree_iris = id3(iris, list(range(len(iris['attributes']))))\n",
    "\n",
    "print(tree_iris)"
   ]
  },
  {
   "cell_type": "markdown",
   "metadata": {},
   "source": [
    "## Assignment 4: Decision Trees on Iris Flowers [5 Points]\n",
    "\n",
    "In this exercise we are going to examine and compare two decision trees that were generated from the iris flower data set ([Wikipedia](https://en.wikipedia.org/wiki/Iris_flower_data_set)) where three variations of the iris flower are quantified. The Iris data set is a classical example of a labeled dataset, i.e. every sample consists of two parts: features and labels. There are four features per sample in this data set (sepal length ($x_1$), sepal width ($x_2$), petal length ($x_2$) and petal width ($x_4$) in cm) and a corresponding label (Iris Setosa, Iris Versicolour, Iris Virginica). These samples are by nature **noisy**, no matter how carefully the measurement was taken - slight deviation from the actual length **cannot be avoided**. We want to learn how the features are related to the label so that we could (in the future) predict the label of a new sample automatically. One way to obtain such a `classifier` is to train a decision tree on the data.\n",
    "\n",
    "Here are two decisions tree generated by the data set. We will now take a closer look."
   ]
  },
  {
   "cell_type": "markdown",
   "metadata": {},
   "source": [
    "### Tree 1:"
   ]
  },
  {
   "cell_type": "raw",
   "metadata": {},
   "source": [
    "                      +\n",
    "                      |\n",
    "                      |\n",
    "                      |\n",
    "       x3 < 2.45      |     x3 >= 2.45\n",
    "   +------------------+------------------+\n",
    "   |                                     |\n",
    "   |                        x4 < 1.75    |     x4 >= 1.75\n",
    "   +                           +---------+---------+\n",
    "setosa                         |                   |\n",
    "                               |                   |\n",
    "                     x3 < 4.95 |   x3 >= 4.95      +\n",
    "                        +--------------+       virginica\n",
    "                        |              |\n",
    "                        |              |\n",
    "              x4 < 1.65 | x4 >= 1.65   +\n",
    "                 +------------+    virginica\n",
    "                 |            |\n",
    "                 |            |\n",
    "                 +            +\n",
    "            versicolor    virginica\n"
   ]
  },
  {
   "cell_type": "markdown",
   "metadata": {},
   "source": [
    "### Tree 2:"
   ]
  },
  {
   "cell_type": "raw",
   "metadata": {},
   "source": [
    "                      +\n",
    "                      |\n",
    "                      |\n",
    "                      |\n",
    "       x3 < 2.45      |     x3 >= 2.45\n",
    "   +------------------+------------------+\n",
    "   |                                     |\n",
    "   |                        x4 < 1.75    |     x4 >= 1.75\n",
    "   +                           +---------+---------+\n",
    "setosa                         |                   |\n",
    "                               |                   |\n",
    "                               +                   +\n",
    "                          versicolor           virginica\n"
   ]
  },
  {
   "cell_type": "markdown",
   "metadata": {},
   "source": [
    "### a)\n",
    "\n",
    "What does it mean that the features $x1$ and $x2$ do not appear in the decision trees?"
   ]
  },
  {
   "cell_type": "markdown",
   "metadata": {
    "nbgrader": {
     "grade": true,
     "grade_id": "4a",
     "locked": false,
     "points": 1,
     "schema_version": 1,
     "solution": true
    },
    "solution": true
   },
   "source": [
    "Sepal length and sepal width are not relevant for the classification. This might be either because they are redundant or because they are independent of the class."
   ]
  },
  {
   "cell_type": "markdown",
   "metadata": {},
   "source": [
    "### b)\n",
    "With which method from the lecture might the second tree have been generated from the first one? Explain the procedure."
   ]
  },
  {
   "cell_type": "markdown",
   "metadata": {
    "nbgrader": {
     "grade": true,
     "grade_id": "4b",
     "locked": false,
     "points": 1,
     "schema_version": 1,
     "solution": true
    },
    "solution": true
   },
   "source": [
    "Reduced error pruning. Greedily remove the node that reduces error on validation set the most."
   ]
  },
  {
   "cell_type": "markdown",
   "metadata": {},
   "source": [
    "### c)\n",
    "After training the tree we can calculate the accuracy, i.e. the percentage of the training set that is classified correctly. Although the first tree was trained on the data set until no improvement of the accuracy was possible, its accuracy is *only* 98%. Explain why it is not 100 %"
   ]
  },
  {
   "cell_type": "markdown",
   "metadata": {
    "nbgrader": {
     "grade": true,
     "grade_id": "4c",
     "locked": false,
     "points": 1,
     "schema_version": 1,
     "solution": true
    },
    "solution": true
   },
   "source": [
    "The dataset is probably inconsistent, i.e. there are samples with the same features but different classes. Alternative: the thresholding has not produced the optimal partitioning."
   ]
  },
  {
   "cell_type": "markdown",
   "metadata": {},
   "source": [
    "### d)\n",
    "\n",
    "Tree 2 only has a 96% accuracy on the training set. Why might this tree still be preferable over tree 1?"
   ]
  },
  {
   "cell_type": "markdown",
   "metadata": {
    "nbgrader": {
     "grade": true,
     "grade_id": "4d",
     "locked": false,
     "points": 1,
     "schema_version": 1,
     "solution": true
    },
    "solution": true
   },
   "source": [
    "Tree 1 is probably overfitted to this specific dataset, i.e. it has not only captured the structure but also the noise in the data. It probably won't generalize as well as the second tree.\n",
    "Another advantage of tree 2 is that it is faster at classifiying new data since less computations have to be made. This difference is hardly noticeable however."
   ]
  }
 ],
 "metadata": {
  "celltoolbar": "Create Assignment",
  "kernelspec": {
   "display_name": "Python 3",
   "language": "python",
   "name": "python3"
  },
  "language_info": {
   "codemirror_mode": {
    "name": "ipython",
    "version": 3
   },
   "file_extension": ".py",
   "mimetype": "text/x-python",
   "name": "python",
   "nbconvert_exporter": "python",
   "pygments_lexer": "ipython3",
   "version": "3.6.5"
  },
  "widgets": {
   "state": {},
   "version": "1.1.2"
  }
 },
 "nbformat": 4,
 "nbformat_minor": 2
}
